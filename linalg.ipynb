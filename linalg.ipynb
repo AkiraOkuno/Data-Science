{
 "cells": [
  {
   "cell_type": "markdown",
   "metadata": {},
   "source": [
    "# Linear Algebra - Anton Rorres\n",
    "## Applications with Python\n",
    "\n",
    "## Determinants by expansion of cofactors\n",
    "\n",
    "The determinant of a square matrix $M$ of size $N$ can be calculated by the sum of each element in a row or column multiplied by its equivalent entry in the cofactor matrix $C$.\n",
    "\n",
    "$|M| = \\sum_{i=1}^{N} a_{ij}C_{ij} = \\sum_{j=1}^{N} a_{ij} C_{ij} \\space \\forall i,j$\n",
    "\n",
    "$C_{ij} = (-1)^{i+j} M_{ij}$"
   ]
  },
  {
   "cell_type": "code",
   "execution_count": 42,
   "metadata": {},
   "outputs": [],
   "source": [
    "import numpy as np\n",
    "\n",
    "M = np.matrix([[1,2,0],\n",
    "               [3,1,1],\n",
    "               [1,4,2]])"
   ]
  },
  {
   "cell_type": "code",
   "execution_count": 3,
   "metadata": {},
   "outputs": [
    {
     "data": {
      "text/plain": [
       "-12.0"
      ]
     },
     "execution_count": 3,
     "metadata": {},
     "output_type": "execute_result"
    }
   ],
   "source": [
    "D = np.linalg.det(M)\n",
    "D"
   ]
  },
  {
   "cell_type": "code",
   "execution_count": 47,
   "metadata": {},
   "outputs": [],
   "source": [
    "# Let's calculate the cofactor matrix\n",
    "\n",
    "C=np.zeros((3,3))\n",
    "for i in range(3):\n",
    "    for j in range(3):\n",
    "        mult = (-1)**(i+j)\n",
    "        m = np.delete(M, (i), axis=0)\n",
    "        m = np.delete(m, (j), axis=1)\n",
    "        C[i,j] = mult * np.linalg.det(m)"
   ]
  },
  {
   "cell_type": "code",
   "execution_count": 48,
   "metadata": {},
   "outputs": [
    {
     "data": {
      "text/plain": [
       "array([[ -2.,  -5.,  11.],\n",
       "       [ -4.,   2.,  -2.],\n",
       "       [  2.,  -1.,  -5.]])"
      ]
     },
     "execution_count": 48,
     "metadata": {},
     "output_type": "execute_result"
    }
   ],
   "source": [
    "C"
   ]
  },
  {
   "cell_type": "code",
   "execution_count": 68,
   "metadata": {},
   "outputs": [],
   "source": [
    "determinant_list = []\n",
    "d=0\n",
    "\n",
    "#check for all rows\n",
    "for j in range(3):\n",
    "    for i in range(3):\n",
    "        d += M[j,i]*X[j,i]\n",
    "        if i == 2:\n",
    "            determinant_list.append(d)\n",
    "            d = 0\n",
    "\n",
    "#check for all columns\n",
    "for j in range(3):\n",
    "    for i in range(3):\n",
    "        d += M[i,j]*X[i,j]\n",
    "        if i == 2:\n",
    "            determinant_list.append(d)\n",
    "            d = 0"
   ]
  },
  {
   "cell_type": "code",
   "execution_count": 70,
   "metadata": {},
   "outputs": [
    {
     "data": {
      "text/plain": [
       "array([ True,  True,  True,  True,  True,  True], dtype=bool)"
      ]
     },
     "execution_count": 70,
     "metadata": {},
     "output_type": "execute_result"
    }
   ],
   "source": [
    "determinant_list == D"
   ]
  },
  {
   "cell_type": "markdown",
   "metadata": {},
   "source": [
    "## Cramer Rule\n",
    "\n",
    "Let $Ax=b$ be a linear system of n equations, such that $det(A) \\neq 0$. This solution is such that:\n",
    "\n",
    "$x_1 = \\frac{\\large det(A_1)}{\\large det(A)}, \\dots, x_n = \\frac{\\large det(A_n)}{\\large det(A)}$"
   ]
  },
  {
   "cell_type": "code",
   "execution_count": 77,
   "metadata": {},
   "outputs": [],
   "source": [
    "A = np.matrix([[1,2,3],\n",
    "               [3,1,1],\n",
    "               [1,4,2]])\n",
    "\n",
    "b = np.matrix([[4],\n",
    "               [1],\n",
    "               [2]])\n",
    "\n",
    "x = np.linalg.inv(A).dot(b)"
   ]
  },
  {
   "cell_type": "code",
   "execution_count": 73,
   "metadata": {},
   "outputs": [
    {
     "data": {
      "text/plain": [
       "matrix([[-0.0952381 ],\n",
       "        [-0.23809524],\n",
       "        [ 1.52380952]])"
      ]
     },
     "execution_count": 73,
     "metadata": {},
     "output_type": "execute_result"
    }
   ],
   "source": [
    "x"
   ]
  },
  {
   "cell_type": "code",
   "execution_count": 79,
   "metadata": {},
   "outputs": [
    {
     "data": {
      "text/plain": [
       "matrix([[ 4.],\n",
       "        [ 1.],\n",
       "        [ 2.]])"
      ]
     },
     "execution_count": 79,
     "metadata": {},
     "output_type": "execute_result"
    }
   ],
   "source": [
    "A.dot(x) "
   ]
  },
  {
   "cell_type": "code",
   "execution_count": 84,
   "metadata": {},
   "outputs": [],
   "source": [
    "M1 = A.copy()\n",
    "M1[:,0] = b\n",
    "x1 = np.linalg.det(M1)/np.linalg.det(A)\n",
    "\n",
    "M2 = A.copy()\n",
    "M2[:,1] = b\n",
    "x2 = np.linalg.det(M2)/np.linalg.det(A)\n",
    "\n",
    "M3 = A.copy()\n",
    "M3[:,2] = b\n",
    "x3 = np.linalg.det(M3)/np.linalg.det(A)"
   ]
  },
  {
   "cell_type": "code",
   "execution_count": 85,
   "metadata": {},
   "outputs": [
    {
     "data": {
      "text/plain": [
       "(-0.095238095238095233, -0.23809523809523814, 1.5238095238095237)"
      ]
     },
     "execution_count": 85,
     "metadata": {},
     "output_type": "execute_result"
    }
   ],
   "source": [
    "x1, x2, x3"
   ]
  },
  {
   "cell_type": "code",
   "execution_count": null,
   "metadata": {},
   "outputs": [],
   "source": []
  }
 ],
 "metadata": {
  "kernelspec": {
   "display_name": "Python 3",
   "language": "python",
   "name": "python3"
  },
  "language_info": {
   "codemirror_mode": {
    "name": "ipython",
    "version": 3
   },
   "file_extension": ".py",
   "mimetype": "text/x-python",
   "name": "python",
   "nbconvert_exporter": "python",
   "pygments_lexer": "ipython3",
   "version": "3.6.4"
  }
 },
 "nbformat": 4,
 "nbformat_minor": 2
}
