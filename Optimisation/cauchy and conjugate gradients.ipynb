{
 "cells": [
  {
   "cell_type": "markdown",
   "metadata": {},
   "source": [
    "# Cauchy Method\n",
    "\n",
    "$f(x_k+td_k) \\approx f(x_k)+t\\nabla f(x_k)'d_k+\\frac{1}{2}t²d_k'\\nabla²f(x_k)d_k$\n",
    "\n",
    "$t=\\large -\\frac{\\nabla f(x_k)'d_k}{d_k'\\nabla²f(x_k)d_k}$\n",
    "\n",
    "$d_k=-\\nabla f(x_k)$"
   ]
  },
  {
   "cell_type": "code",
   "execution_count": 2,
   "metadata": {},
   "outputs": [],
   "source": [
    "import numpy as np \n",
    "\n",
    "class f:\n",
    "    def __init__(self, list_of_parameters, initial_inputs):\n",
    "        self.params = np.array(list_of_parameters)\n",
    "        self.inputs = np.array(initial_inputs)\n",
    "    \n",
    "    def update_inputs(self, list_of_inputs):\n",
    "        self.inputs = np.array(list_of_inputs)\n",
    "        return self\n",
    "        \n",
    "    def evaluate(self):\n",
    "        return self.params.dot(self.inputs ** 2)\n",
    "    \n",
    "    def gradient(self):\n",
    "        return 2 * self.inputs * self.params\n",
    "        \n",
    "    def hessian(self):\n",
    "        dim = len(self.params)\n",
    "        hess = np.zeros((dim,dim))\n",
    "        np.fill_diagonal(hess, 2 * self.params)\n",
    "        return hess"
   ]
  },
  {
   "cell_type": "code",
   "execution_count": 3,
   "metadata": {},
   "outputs": [],
   "source": [
    "func = f([1,2],[1,2])"
   ]
  },
  {
   "cell_type": "code",
   "execution_count": 4,
   "metadata": {},
   "outputs": [],
   "source": [
    "def cauchy(params, init_inputs):\n",
    "    k=0\n",
    "    func = f(params,init_inputs)\n",
    "    x = init_inputs\n",
    "    \n",
    "    while np.linalg.norm(func.gradient()) > 0.0001 and k<10001:\n",
    "        grad = func.gradient()\n",
    "        num = grad.T.dot(grad)\n",
    "        denom = grad.T.dot(func.hessian()).dot(grad)\n",
    "        t = num/denom\n",
    "        x_new = x - t*grad\n",
    "        func.update_inputs(x_new)\n",
    "        x = x_new.copy()\n",
    "        k=k+1\n",
    "        \n",
    "    print('The function converged at iteration {}'.format(k))\n",
    "    print('And f has the value of {}'.format(func.evaluate()))\n",
    "        \n",
    "    return(x,k)"
   ]
  },
  {
   "cell_type": "code",
   "execution_count": 5,
   "metadata": {},
   "outputs": [
    {
     "name": "stdout",
     "output_type": "stream",
     "text": [
      "The function converged at iteration 7\n",
      "And f has the value of 9.259281190329347e-11\n"
     ]
    },
    {
     "data": {
      "text/plain": [
       "(array([ 9.47559862e-06, -1.18444983e-06]), 7)"
      ]
     },
     "execution_count": 5,
     "metadata": {},
     "output_type": "execute_result"
    }
   ],
   "source": [
    "cauchy([1,2],[1,2])"
   ]
  },
  {
   "cell_type": "code",
   "execution_count": 6,
   "metadata": {},
   "outputs": [],
   "source": [
    "def gradient_descent_backtracking_cauchy(f_params, initial_inputs, t0):\n",
    "    k=0\n",
    "    x = initial_inputs\n",
    "    func = f(f_params, x)\n",
    "    list_t = []\n",
    "    \n",
    "    while (np.linalg.norm(func.gradient()) > 0.0001 and k < 10001):\n",
    "        dk = func.gradient()\n",
    "        t_cauchy = dk.T.dot(dk)/(dk.T.dot(func.hessian()).dot(dk))\n",
    "        t = max(t0, t_cauchy)\n",
    "        #print(t)\n",
    "        list_t.append(t)\n",
    "        \n",
    "        x_next = x - t*dk\n",
    "        func.update_inputs(x_next)\n",
    "        x = x_next.copy()\n",
    "        k = k + 1\n",
    "    \n",
    "    print('The process converged in the interation: {}'.format(k))\n",
    "    print('The final value of f was: {}'.format(func.evaluate()))\n",
    "\n",
    "    return(x,k,list_t)"
   ]
  },
  {
   "cell_type": "code",
   "execution_count": 7,
   "metadata": {},
   "outputs": [
    {
     "name": "stdout",
     "output_type": "stream",
     "text": [
      "The process converged in the interation: 7\n",
      "The final value of f was: 9.259281190329347e-11\n"
     ]
    },
    {
     "data": {
      "text/plain": [
       "array([ 9.47559862e-06, -1.18444983e-06])"
      ]
     },
     "execution_count": 7,
     "metadata": {},
     "output_type": "execute_result"
    }
   ],
   "source": [
    "gradient_descent_backtracking_cauchy([1,2],[1,2],0.05)[0]"
   ]
  },
  {
   "cell_type": "code",
   "execution_count": 8,
   "metadata": {},
   "outputs": [],
   "source": [
    "params = [1,1,1,1,1,10,10,10,10,10]\n",
    "init = [1,1,1,1,1,1,1,1,1,1]"
   ]
  },
  {
   "cell_type": "code",
   "execution_count": 9,
   "metadata": {},
   "outputs": [
    {
     "name": "stdout",
     "output_type": "stream",
     "text": [
      "The function converged at iteration 10\n",
      "And f has the value of 2.552379523939185e-10\n"
     ]
    },
    {
     "data": {
      "text/plain": [
       "(array([2.15422609e-06, 2.15422609e-06, 2.15422609e-06, 2.15422609e-06,\n",
       "        2.15422609e-06, 2.15422609e-06, 2.15422609e-06, 2.15422609e-06,\n",
       "        2.15422609e-06, 2.15422609e-06]), 10)"
      ]
     },
     "execution_count": 9,
     "metadata": {},
     "output_type": "execute_result"
    }
   ],
   "source": [
    "cauchy(params, init)"
   ]
  },
  {
   "cell_type": "code",
   "execution_count": 10,
   "metadata": {},
   "outputs": [
    {
     "name": "stdout",
     "output_type": "stream",
     "text": [
      "The process converged in the interation: 10\n",
      "The final value of f was: 2.552379523939185e-10\n"
     ]
    },
    {
     "data": {
      "text/plain": [
       "array([2.15422609e-06, 2.15422609e-06, 2.15422609e-06, 2.15422609e-06,\n",
       "       2.15422609e-06, 2.15422609e-06, 2.15422609e-06, 2.15422609e-06,\n",
       "       2.15422609e-06, 2.15422609e-06])"
      ]
     },
     "execution_count": 10,
     "metadata": {},
     "output_type": "execute_result"
    }
   ],
   "source": [
    "gradient_descent_backtracking_cauchy(params, init, 0.05)[0]"
   ]
  },
  {
   "cell_type": "markdown",
   "metadata": {},
   "source": [
    "# Conjugate gradients (CG)\n",
    "\n",
    "$min \\frac{1}{2} x'Ax - b'x \\rightarrow Ax-b=0$"
   ]
  },
  {
   "cell_type": "code",
   "execution_count": 11,
   "metadata": {},
   "outputs": [],
   "source": [
    "class quadratic:\n",
    "    \n",
    "    def __init__(self, A, b, initial_input):\n",
    "        self.A = np.array(A)\n",
    "        self.b = np.array(b)\n",
    "        self.inputs = np.array(initial_input)\n",
    "    \n",
    "    def update_inputs(self, list_of_inputs):\n",
    "        self.inputs = np.array(list_of_inputs)\n",
    "        return self\n",
    "    \n",
    "    def evaluate(self):\n",
    "        x = self.inputs\n",
    "        return 0.5*x.T.dot(self.A).dot(x) - self.b.dot(x)\n",
    "    \n",
    "    def gradient(self):\n",
    "        return self.A.dot(self.inputs)-self.b\n",
    "    \n",
    "    def hessian(self):\n",
    "        return self.A"
   ]
  },
  {
   "cell_type": "code",
   "execution_count": 12,
   "metadata": {},
   "outputs": [],
   "source": [
    "A = np.array([[3,2],[2,6]])\n",
    "b = np.array([2,-8])"
   ]
  },
  {
   "cell_type": "code",
   "execution_count": 13,
   "metadata": {},
   "outputs": [],
   "source": [
    "q=quadratic(A,b,np.array([1,1]))"
   ]
  },
  {
   "cell_type": "code",
   "execution_count": 14,
   "metadata": {},
   "outputs": [
    {
     "data": {
      "text/plain": [
       "12.5"
      ]
     },
     "execution_count": 14,
     "metadata": {},
     "output_type": "execute_result"
    }
   ],
   "source": [
    "q.evaluate()"
   ]
  },
  {
   "cell_type": "code",
   "execution_count": 15,
   "metadata": {},
   "outputs": [
    {
     "data": {
      "text/plain": [
       "array([ 3, 16])"
      ]
     },
     "execution_count": 15,
     "metadata": {},
     "output_type": "execute_result"
    }
   ],
   "source": [
    "q.gradient()"
   ]
  },
  {
   "cell_type": "code",
   "execution_count": 16,
   "metadata": {},
   "outputs": [
    {
     "data": {
      "text/plain": [
       "array([[3, 2],\n",
       "       [2, 6]])"
      ]
     },
     "execution_count": 16,
     "metadata": {},
     "output_type": "execute_result"
    }
   ],
   "source": [
    "q.hessian()"
   ]
  },
  {
   "cell_type": "code",
   "execution_count": 17,
   "metadata": {},
   "outputs": [],
   "source": [
    "def CG_gram_schmidt(A, b, initial_input):\n",
    "    \n",
    "    q = quadratic(A,b,initial_input)\n",
    "    g = q.gradient()\n",
    "    k = 0\n",
    "    d_list = []\n",
    "    x = initial_input\n",
    "    \n",
    "    while np.linalg.norm(g) > 0.0000001 and k < 1001:\n",
    "        \n",
    "        dk = -g\n",
    "        \n",
    "        for d in d_list:\n",
    "            dk += (g.T.dot(A).dot(d))/(d.T.dot(A).dot(d))*d\n",
    "        \n",
    "        ak = -(g.T.dot(dk))/(dk.T.dot(A).dot(dk))\n",
    "        x_new = x + ak*dk\n",
    "        \n",
    "        q.update_inputs(x_new)\n",
    "        g = q.gradient()\n",
    "        \n",
    "        k += 1\n",
    "        x = x_new.copy()\n",
    "        d_list.append(dk)\n",
    "        \n",
    "        if k%100==0:\n",
    "            print(q.evaluate(), np.linalg.norm(g))\n",
    "        \n",
    "    print(\"The optimisation converged in the {}\".format(k)+\" iteration.\")\n",
    "    return(x,k,q.evaluate(),d_list)"
   ]
  },
  {
   "cell_type": "code",
   "execution_count": 18,
   "metadata": {},
   "outputs": [
    {
     "name": "stdout",
     "output_type": "stream",
     "text": [
      "The optimisation converged in the 2 iteration.\n"
     ]
    },
    {
     "data": {
      "text/plain": [
       "array([ 2., -2.])"
      ]
     },
     "execution_count": 18,
     "metadata": {},
     "output_type": "execute_result"
    }
   ],
   "source": [
    "CG_gram_schmidt(A,b,np.array([1,2]))[0]"
   ]
  }
 ],
 "metadata": {
  "kernelspec": {
   "display_name": "Python 3",
   "language": "python",
   "name": "python3"
  },
  "language_info": {
   "codemirror_mode": {
    "name": "ipython",
    "version": 3
   },
   "file_extension": ".py",
   "mimetype": "text/x-python",
   "name": "python",
   "nbconvert_exporter": "python",
   "pygments_lexer": "ipython3",
   "version": "3.6.5"
  }
 },
 "nbformat": 4,
 "nbformat_minor": 2
}
